{
 "cells": [
  {
   "cell_type": "code",
   "execution_count": 1,
   "metadata": {},
   "outputs": [
    {
     "name": "stdout",
     "output_type": "stream",
     "text": [
      "Requirement already satisfied: pandas in ./.venv/lib/python3.11/site-packages (2.0.2)\n",
      "Requirement already satisfied: python-dateutil>=2.8.2 in ./.venv/lib/python3.11/site-packages (from pandas) (2.8.2)\n",
      "Requirement already satisfied: pytz>=2020.1 in ./.venv/lib/python3.11/site-packages (from pandas) (2023.3)\n",
      "Requirement already satisfied: tzdata>=2022.1 in ./.venv/lib/python3.11/site-packages (from pandas) (2023.3)\n",
      "Requirement already satisfied: numpy>=1.21.0 in ./.venv/lib/python3.11/site-packages (from pandas) (1.24.3)\n",
      "Requirement already satisfied: six>=1.5 in ./.venv/lib/python3.11/site-packages (from python-dateutil>=2.8.2->pandas) (1.16.0)\n",
      "\n",
      "\u001b[1m[\u001b[0m\u001b[34;49mnotice\u001b[0m\u001b[1;39;49m]\u001b[0m\u001b[39;49m A new release of pip is available: \u001b[0m\u001b[31;49m23.0.1\u001b[0m\u001b[39;49m -> \u001b[0m\u001b[32;49m23.1.2\u001b[0m\n",
      "\u001b[1m[\u001b[0m\u001b[34;49mnotice\u001b[0m\u001b[1;39;49m]\u001b[0m\u001b[39;49m To update, run: \u001b[0m\u001b[32;49mpip install --upgrade pip\u001b[0m\n",
      "Note: you may need to restart the kernel to use updated packages.\n"
     ]
    }
   ],
   "source": [
    "## import (and install if necessary) pandas\n",
    "%pip install pandas\n",
    "import pandas as pd"
   ]
  },
  {
   "cell_type": "code",
   "execution_count": 2,
   "metadata": {},
   "outputs": [
    {
     "name": "stdout",
     "output_type": "stream",
     "text": [
      "<class 'pandas.core.frame.DataFrame'>\n",
      "RangeIndex: 1160755 entries, 0 to 1160754\n",
      "Data columns (total 14 columns):\n",
      " #   Column             Non-Null Count    Dtype         \n",
      "---  ------             --------------    -----         \n",
      " 0   CustomerID         1160755 non-null  int64         \n",
      " 1   CustomerSex        1160755 non-null  object        \n",
      " 2   CustomerBirthDate  1160417 non-null  datetime64[ns]\n",
      " 3   TripDate           1160755 non-null  datetime64[ns]\n",
      " 4   VehicleID          1160755 non-null  int64         \n",
      " 5   RunActualID        1160755 non-null  int64         \n",
      " 6   StartDateTime      1160755 non-null  datetime64[ns]\n",
      " 7   EndDateTime        1160755 non-null  datetime64[ns]\n",
      " 8   PickupX            1110755 non-null  float64       \n",
      " 9   PickupY            1110755 non-null  float64       \n",
      " 10  DropoffX           1109028 non-null  float64       \n",
      " 11  DropoffY           1109028 non-null  float64       \n",
      " 12  Cost               1160538 non-null  float64       \n",
      " 13  CollectedFareType  1147941 non-null  object        \n",
      "dtypes: datetime64[ns](4), float64(5), int64(3), object(2)\n",
      "memory usage: 124.0+ MB\n",
      "None\n"
     ]
    }
   ],
   "source": [
    "df = pd.read_csv(\"full_data.csv\"\n",
    "                 ,parse_dates=['TripDate','StartDateTime','EndDateTime','CustomerBirthDate']\n",
    "                 )\n",
    "## process cost monetary data\n",
    "df['Cost'] = df['Cost'].str.replace(',', '')\n",
    "df['Cost'] = df['Cost'].str.replace('$', '')\n",
    "df['Cost'] = df['Cost'].str.replace('(', '')\n",
    "df['Cost'] = df['Cost'].str.replace(')', '')\n",
    "df['Cost'] = df['Cost'].astype(float)\n",
    "print(df.info())\n",
    "#print(df.head(5))\n"
   ]
  },
  {
   "cell_type": "code",
   "execution_count": 3,
   "metadata": {},
   "outputs": [
    {
     "name": "stdout",
     "output_type": "stream",
     "text": [
      "Maximum Number of rows per RunActualID: 18\n",
      "Any RunActualIDs that have more than one VehicleID: 0\n",
      "Unique number of RunActualIDs: 213272\n",
      "Unique number of CustomerIDs: 10215\n",
      "Unique number of VehicleIDs: 538\n"
     ]
    }
   ],
   "source": [
    "## summary counts\n",
    "runActualID_counts = df.groupby(['RunActualID'])['RunActualID'].count()\n",
    "max_runActualIDs = runActualID_counts.max().item()\n",
    "print(f\"Maximum Number of rows per RunActualID: {max_runActualIDs}\")\n",
    "runActualID_vehicleID = df.groupby('RunActualID')['VehicleID'].nunique()\n",
    "runActualIDs_more_than_one_vehicleID = runActualID_vehicleID[runActualID_vehicleID != 1]\n",
    "print(f\"Any RunActualIDs that have more than one VehicleID: {runActualIDs_more_than_one_vehicleID.nunique()}\")\n",
    "print(f\"Unique number of RunActualIDs: {df['RunActualID'].nunique()}\")\n",
    "print(f\"Unique number of CustomerIDs: {df['CustomerID'].nunique()}\")\n",
    "print(f\"Unique number of VehicleIDs: {df['VehicleID'].nunique()}\")"
   ]
  },
  {
   "cell_type": "code",
   "execution_count": 4,
   "metadata": {},
   "outputs": [
    {
     "name": "stdout",
     "output_type": "stream",
     "text": [
      "Number of RunActualIDs lasting over 24 hours: 4\n",
      "(Calculated by subtracting EndDateTime from StartDateTime)\n",
      "Saving outlier RunActualIDs to `runactualIDs_over_day.csv\n"
     ]
    }
   ],
   "source": [
    "dates_per_runactualIDs = df.groupby(['RunActualID']).agg({'EndDateTime': 'max', 'StartDateTime':'min'})\n",
    "dates_per_runactualIDs['EndDate'] = pd.to_datetime(dates_per_runactualIDs['EndDateTime'].dt.date)\n",
    "dates_per_runactualIDs['StartDate'] = pd.to_datetime(dates_per_runactualIDs['StartDateTime'].dt.date)\n",
    "dates_per_runactualIDs['diff'] = (dates_per_runactualIDs['EndDateTime'] - dates_per_runactualIDs['StartDateTime']).dt.total_seconds()\n",
    "seconds_in_day = 86400\n",
    "runactualIDs_over_day = dates_per_runactualIDs[dates_per_runactualIDs['diff'] > seconds_in_day]\n",
    "#print(runactualIDs_over_day['RunActualId'].nunique())\n",
    "\n",
    "print(f\"\"\"Number of RunActualIDs lasting over 24 hours: {runactualIDs_over_day.index.nunique()}\n",
    "(Calculated by subtracting EndDateTime from StartDateTime)\n",
    "Saving outlier RunActualIDs to `runactualIDs_over_day.csv\"\"\")\n",
    "runactualIDs_over_day.to_csv(\"runactualIDs_over_day.csv\", columns = ['StartDateTime','EndDateTime'])"
   ]
  },
  {
   "cell_type": "code",
   "execution_count": 5,
   "metadata": {},
   "outputs": [],
   "source": [
    "# adding in seconds per trip\n",
    "df['TotalTripTimeSeconds'] = (df['EndDateTime'] - df['StartDateTime']).dt.total_seconds()\n"
   ]
  },
  {
   "cell_type": "code",
   "execution_count": 6,
   "metadata": {},
   "outputs": [],
   "source": [
    "# sort by RunActualID and StartDateTime, add ride rank\n",
    "df = df.sort_values(by=['RunActualID','StartDateTime'])\n",
    "df = df.reset_index()\n",
    "df['TripRank'] = df.sort_values(['RunActualID','StartDateTime'], ascending=True).groupby(['RunActualID']).cumcount() + 1\n",
    "\n",
    "\n",
    "df_route_fields = df[['RunActualID','CustomerID','StartDateTime','PickupX','PickupY','EndDateTime','DropoffX','DropoffY','Cost','CollectedFareType','TotalTripTimeSeconds']]"
   ]
  },
  {
   "cell_type": "code",
   "execution_count": 7,
   "metadata": {},
   "outputs": [
    {
     "data": {
      "text/plain": [
       "'field_tuple = ()\\nfor x in range(max_runActualIDs):\\n    y = x + 1\\n    field_tuple = field_tuple + (f\"CustomerID_{y}=pd.NamedAgg(column=\\'CustomerID\\',aggfunc = lambda t: t.head({y}).tail(1))\",\\n                                 f\"StartDateTime_{y}=pd.NamedAgg(column=\\'StartDateTime\\',aggfunc = lambda t: t.head({y}).tail(1))\",\\n                                 f\"PickupX_{y}=pd.NamedAgg(column=\\'PickupX\\',aggfunc = lambda t: t.head({y}).tail(1))\",\\n                                 f\"PickupY_{y}=pd.NamedAgg(column=\\'PickupY\\',aggfunc = lambda t: t.head({y}).tail(1))\",\\n                                 f\"EndDateTime_{y}=pd.NamedAgg(column=\\'EndDateTime\\',aggfunc = lambda t: t.head({y}).tail(1))\",\\n                                 f\"DropoffX_{y}=pd.NamedAgg(column=\\'DropoffX\\',aggfunc = lambda t: t.head({y}).tail(1))\",\\n                                 f\"DropoffY_{y}=pd.NamedAgg(column=\\'DropoffY\\',aggfunc = lambda t: t.head({y}).tail(1))\",\\n                                 f\"Cost_{y}=pd.NamedAgg(column=\\'Cost\\',aggfunc = lambda t: t.head({y}).tail(1))\",\\n                                 f\"CollectedFareType_{y}=pd.NamedAgg(column=\\'CollectedFareType\\',aggfunc = lambda t: t.head({y}).tail(1))\",\\n                                 f\"TotalTripTimeSeconds_{y}=pd.NamedAgg(column=\\'TotalTripTimeSeconds\\',aggfunc = lambda t: t.head({y}).tail(1))\"\\n                                 )\\nprint(field_tuple)\\n'"
      ]
     },
     "execution_count": 7,
     "metadata": {},
     "output_type": "execute_result"
    }
   ],
   "source": [
    "# generate field definitions\n",
    "\"\"\"field_tuple = ()\n",
    "for x in range(max_runActualIDs):\n",
    "    y = x + 1\n",
    "    field_tuple = field_tuple + (f\"CustomerID_{y}=pd.NamedAgg(column='CustomerID',aggfunc = lambda t: t.head({y}).tail(1))\",\n",
    "                                 f\"StartDateTime_{y}=pd.NamedAgg(column='StartDateTime',aggfunc = lambda t: t.head({y}).tail(1))\",\n",
    "                                 f\"PickupX_{y}=pd.NamedAgg(column='PickupX',aggfunc = lambda t: t.head({y}).tail(1))\",\n",
    "                                 f\"PickupY_{y}=pd.NamedAgg(column='PickupY',aggfunc = lambda t: t.head({y}).tail(1))\",\n",
    "                                 f\"EndDateTime_{y}=pd.NamedAgg(column='EndDateTime',aggfunc = lambda t: t.head({y}).tail(1))\",\n",
    "                                 f\"DropoffX_{y}=pd.NamedAgg(column='DropoffX',aggfunc = lambda t: t.head({y}).tail(1))\",\n",
    "                                 f\"DropoffY_{y}=pd.NamedAgg(column='DropoffY',aggfunc = lambda t: t.head({y}).tail(1))\",\n",
    "                                 f\"Cost_{y}=pd.NamedAgg(column='Cost',aggfunc = lambda t: t.head({y}).tail(1))\",\n",
    "                                 f\"CollectedFareType_{y}=pd.NamedAgg(column='CollectedFareType',aggfunc = lambda t: t.head({y}).tail(1))\",\n",
    "                                 f\"TotalTripTimeSeconds_{y}=pd.NamedAgg(column='TotalTripTimeSeconds',aggfunc = lambda t: t.head({y}).tail(1))\"\n",
    "                                 )\n",
    "print(field_tuple)\n",
    "\"\"\""
   ]
  },
  {
   "cell_type": "code",
   "execution_count": 8,
   "metadata": {},
   "outputs": [],
   "source": [
    "\n",
    "\n",
    "# there is 100% a better way to do this, just not today:\n",
    "df_routes = df_route_fields.groupby('RunActualID').agg(\n",
    "    total_customers=pd.NamedAgg(column='CustomerID', aggfunc='count'),\n",
    "    customerID_1=pd.NamedAgg(column='CustomerID',aggfunc = lambda t: t.head(1).tail(1)),\n",
    "    startdatetime_1=pd.NamedAgg(column='StartDateTime',aggfunc = lambda t: t.head(1).tail(1)),\n",
    "    pickupx_1=pd.NamedAgg(column='PickupX',aggfunc = lambda t: t.head(1).tail(1)),\n",
    "    pickupy_1=pd.NamedAgg(column='PickupY',aggfunc = lambda t: t.head(1).tail(1)),\n",
    "    enddatetime_1=pd.NamedAgg(column='EndDateTime',aggfunc = lambda t: t.head(1).tail(1)),\n",
    "    dropoffx_1=pd.NamedAgg(column='DropoffX',aggfunc = lambda t: t.head(1).tail(1)),\n",
    "    dropoffy_1=pd.NamedAgg(column='DropoffY',aggfunc = lambda t: t.head(1).tail(1)),\n",
    "    cost_1=pd.NamedAgg(column='Cost',aggfunc = lambda t: t.head(1).tail(1)),\n",
    "    collected_fare_type_1=pd.NamedAgg(column='CollectedFareType',aggfunc = lambda t: t.head(1).tail(1)),\n",
    "    total_trip_time_1=pd.NamedAgg(column='TotalTripTimeSeconds',aggfunc = lambda t: t.head(1).tail(1)),\n",
    "    customerID_2=pd.NamedAgg(column='CustomerID',aggfunc = lambda t: t.head(2).tail(1)),\n",
    "    startdatetime_2=pd.NamedAgg(column='StartDateTime',aggfunc = lambda t: t.head(2).tail(1)),\n",
    "    pickupx_2=pd.NamedAgg(column='PickupX',aggfunc = lambda t: t.head(2).tail(1)),\n",
    "    pickupy_2=pd.NamedAgg(column='PickupY',aggfunc = lambda t: t.head(2).tail(1)),\n",
    "    enddatetime_2=pd.NamedAgg(column='EndDateTime',aggfunc = lambda t: t.head(2).tail(1)),\n",
    "    dropoffx_2=pd.NamedAgg(column='DropoffX',aggfunc = lambda t: t.head(2).tail(1)),\n",
    "    dropoffy_2=pd.NamedAgg(column='DropoffY',aggfunc = lambda t: t.head(2).tail(1)),\n",
    "    cost_2=pd.NamedAgg(column='Cost',aggfunc = lambda t: t.head(2).tail(1)),\n",
    "    collected_fare_type_2=pd.NamedAgg(column='CollectedFareType',aggfunc = lambda t: t.head(2).tail(1)),\n",
    "    total_trip_time_2=pd.NamedAgg(column='TotalTripTimeSeconds',aggfunc = lambda t: t.head(2).tail(1)),\n",
    "    customerID_3=pd.NamedAgg(column='CustomerID',aggfunc = lambda t: t.head(3).tail(1)),\n",
    "    startdatetime_3=pd.NamedAgg(column='StartDateTime',aggfunc = lambda t: t.head(3).tail(1)),\n",
    "    pickupx_3=pd.NamedAgg(column='PickupX',aggfunc = lambda t: t.head(3).tail(1)),\n",
    "    pickupy_3=pd.NamedAgg(column='PickupY',aggfunc = lambda t: t.head(3).tail(1)),\n",
    "    enddatetime_3=pd.NamedAgg(column='EndDateTime',aggfunc = lambda t: t.head(3).tail(1)),\n",
    "    dropoffx_3=pd.NamedAgg(column='DropoffX',aggfunc = lambda t: t.head(3).tail(1)),\n",
    "    dropoffy_3=pd.NamedAgg(column='DropoffY',aggfunc = lambda t: t.head(3).tail(1)),\n",
    "    cost_3=pd.NamedAgg(column='Cost',aggfunc = lambda t: t.head(3).tail(1)),\n",
    "    collected_fare_type_3=pd.NamedAgg(column='CollectedFareType',aggfunc = lambda t: t.head(3).tail(1)),\n",
    "    total_trip_time_3=pd.NamedAgg(column='TotalTripTimeSeconds',aggfunc = lambda t: t.head(3).tail(1)),\n",
    "    customerID_4=pd.NamedAgg(column='CustomerID',aggfunc = lambda t: t.head(4).tail(1)),\n",
    "    startdatetime_4=pd.NamedAgg(column='StartDateTime',aggfunc = lambda t: t.head(4).tail(1)),\n",
    "    pickupx_4=pd.NamedAgg(column='PickupX',aggfunc = lambda t: t.head(4).tail(1)),\n",
    "    pickupy_4=pd.NamedAgg(column='PickupY',aggfunc = lambda t: t.head(4).tail(1)),\n",
    "    enddatetime_4=pd.NamedAgg(column='EndDateTime',aggfunc = lambda t: t.head(4).tail(1)),\n",
    "    dropoffx_4=pd.NamedAgg(column='DropoffX',aggfunc = lambda t: t.head(4).tail(1)),\n",
    "    dropoffy_4=pd.NamedAgg(column='DropoffY',aggfunc = lambda t: t.head(4).tail(1)),\n",
    "    cost_4=pd.NamedAgg(column='Cost',aggfunc = lambda t: t.head(4).tail(1)),\n",
    "    collected_fare_type_4=pd.NamedAgg(column='CollectedFareType',aggfunc = lambda t: t.head(4).tail(1)),\n",
    "    total_trip_time_4=pd.NamedAgg(column='TotalTripTimeSeconds',aggfunc = lambda t: t.head(4).tail(1)),\n",
    "    customerID_5=pd.NamedAgg(column='CustomerID',aggfunc = lambda t: t.head(5).tail(1)),\n",
    "    startdatetime_5=pd.NamedAgg(column='StartDateTime',aggfunc = lambda t: t.head(5).tail(1)),\n",
    "    pickupx_5=pd.NamedAgg(column='PickupX',aggfunc = lambda t: t.head(5).tail(1)),\n",
    "    pickupy_5=pd.NamedAgg(column='PickupY',aggfunc = lambda t: t.head(5).tail(1)),\n",
    "    enddatetime_5=pd.NamedAgg(column='EndDateTime',aggfunc = lambda t: t.head(5).tail(1)),\n",
    "    dropoffx_5=pd.NamedAgg(column='DropoffX',aggfunc = lambda t: t.head(5).tail(1)),\n",
    "    dropoffy_5=pd.NamedAgg(column='DropoffY',aggfunc = lambda t: t.head(5).tail(1)),\n",
    "    cost_5=pd.NamedAgg(column='Cost',aggfunc = lambda t: t.head(5).tail(1)),\n",
    "    collected_fare_type_5=pd.NamedAgg(column='CollectedFareType',aggfunc = lambda t: t.head(5).tail(1)),\n",
    "    total_trip_time_5=pd.NamedAgg(column='TotalTripTimeSeconds',aggfunc = lambda t: t.head(5).tail(1)),\n",
    "    customerID_6=pd.NamedAgg(column='CustomerID',aggfunc = lambda t: t.head(6).tail(1)),\n",
    "    startdatetime_6=pd.NamedAgg(column='StartDateTime',aggfunc = lambda t: t.head(6).tail(1)),\n",
    "    pickupx_6=pd.NamedAgg(column='PickupX',aggfunc = lambda t: t.head(6).tail(1)),\n",
    "    pickupy_6=pd.NamedAgg(column='PickupY',aggfunc = lambda t: t.head(6).tail(1)),\n",
    "    enddatetime_6=pd.NamedAgg(column='EndDateTime',aggfunc = lambda t: t.head(6).tail(1)),\n",
    "    dropoffx_6=pd.NamedAgg(column='DropoffX',aggfunc = lambda t: t.head(6).tail(1)),\n",
    "    dropoffy_6=pd.NamedAgg(column='DropoffY',aggfunc = lambda t: t.head(6).tail(1)),\n",
    "    cost_6=pd.NamedAgg(column='Cost',aggfunc = lambda t: t.head(6).tail(1)),\n",
    "    collected_fare_type_6=pd.NamedAgg(column='CollectedFareType',aggfunc = lambda t: t.head(6).tail(1)),\n",
    "    total_trip_time_6=pd.NamedAgg(column='TotalTripTimeSeconds',aggfunc = lambda t: t.head(6).tail(1)),\n",
    "    customerID_7=pd.NamedAgg(column='CustomerID',aggfunc = lambda t: t.head(7).tail(1)),\n",
    "    startdatetime_7=pd.NamedAgg(column='StartDateTime',aggfunc = lambda t: t.head(7).tail(1)),\n",
    "    pickupx_7=pd.NamedAgg(column='PickupX',aggfunc = lambda t: t.head(7).tail(1)),\n",
    "    pickupy_7=pd.NamedAgg(column='PickupY',aggfunc = lambda t: t.head(7).tail(1)),\n",
    "    enddatetime_7=pd.NamedAgg(column='EndDateTime',aggfunc = lambda t: t.head(7).tail(1)),\n",
    "    dropoffx_7=pd.NamedAgg(column='DropoffX',aggfunc = lambda t: t.head(7).tail(1)),\n",
    "    dropoffy_7=pd.NamedAgg(column='DropoffY',aggfunc = lambda t: t.head(7).tail(1)),\n",
    "    cost_7=pd.NamedAgg(column='Cost',aggfunc = lambda t: t.head(7).tail(1)),\n",
    "    collected_fare_type_7=pd.NamedAgg(column='CollectedFareType',aggfunc = lambda t: t.head(7).tail(1)),\n",
    "    total_trip_time_7=pd.NamedAgg(column='TotalTripTimeSeconds',aggfunc = lambda t: t.head(7).tail(1)),\n",
    "    customerID_8=pd.NamedAgg(column='CustomerID',aggfunc = lambda t: t.head(8).tail(1)),\n",
    "    startdatetime_8=pd.NamedAgg(column='StartDateTime',aggfunc = lambda t: t.head(8).tail(1)),\n",
    "    pickupx_8=pd.NamedAgg(column='PickupX',aggfunc = lambda t: t.head(8).tail(1)),\n",
    "    pickupy_8=pd.NamedAgg(column='PickupY',aggfunc = lambda t: t.head(8).tail(1)),\n",
    "    enddatetime_8=pd.NamedAgg(column='EndDateTime',aggfunc = lambda t: t.head(8).tail(1)),\n",
    "    dropoffx_8=pd.NamedAgg(column='DropoffX',aggfunc = lambda t: t.head(8).tail(1)),\n",
    "    dropoffy_8=pd.NamedAgg(column='DropoffY',aggfunc = lambda t: t.head(8).tail(1)),\n",
    "    cost_8=pd.NamedAgg(column='Cost',aggfunc = lambda t: t.head(8).tail(1)),\n",
    "    collected_fare_type_8=pd.NamedAgg(column='CollectedFareType',aggfunc = lambda t: t.head(8).tail(1)),\n",
    "    total_trip_time_8=pd.NamedAgg(column='TotalTripTimeSeconds',aggfunc = lambda t: t.head(8).tail(1)),\n",
    "    customerID_9=pd.NamedAgg(column='CustomerID',aggfunc = lambda t: t.head(9).tail(1)),\n",
    "    startdatetime_9=pd.NamedAgg(column='StartDateTime',aggfunc = lambda t: t.head(9).tail(1)),\n",
    "    pickupx_9=pd.NamedAgg(column='PickupX',aggfunc = lambda t: t.head(9).tail(1)),\n",
    "    pickupy_9=pd.NamedAgg(column='PickupY',aggfunc = lambda t: t.head(9).tail(1)),\n",
    "    enddatetime_9=pd.NamedAgg(column='EndDateTime',aggfunc = lambda t: t.head(9).tail(1)),\n",
    "    dropoffx_9=pd.NamedAgg(column='DropoffX',aggfunc = lambda t: t.head(9).tail(1)),\n",
    "    dropoffy_9=pd.NamedAgg(column='DropoffY',aggfunc = lambda t: t.head(9).tail(1)),\n",
    "    cost_9=pd.NamedAgg(column='Cost',aggfunc = lambda t: t.head(9).tail(1)),\n",
    "    collected_fare_type_9=pd.NamedAgg(column='CollectedFareType',aggfunc = lambda t: t.head(9).tail(1)),\n",
    "    total_trip_time_9=pd.NamedAgg(column='TotalTripTimeSeconds',aggfunc = lambda t: t.head(9).tail(1)),\n",
    "    customerID_10=pd.NamedAgg(column='CustomerID',aggfunc = lambda t: t.head(10).tail(1)),\n",
    "    startdatetime_10=pd.NamedAgg(column='StartDateTime',aggfunc = lambda t: t.head(10).tail(1)),\n",
    "    pickupx_10=pd.NamedAgg(column='PickupX',aggfunc = lambda t: t.head(10).tail(1)),\n",
    "    pickupy_10=pd.NamedAgg(column='PickupY',aggfunc = lambda t: t.head(10).tail(1)),\n",
    "    enddatetime_10=pd.NamedAgg(column='EndDateTime',aggfunc = lambda t: t.head(10).tail(1)),\n",
    "    dropoffx_10=pd.NamedAgg(column='DropoffX',aggfunc = lambda t: t.head(10).tail(1)),\n",
    "    dropoffy_10=pd.NamedAgg(column='DropoffY',aggfunc = lambda t: t.head(10).tail(1)),\n",
    "    cost_10=pd.NamedAgg(column='Cost',aggfunc = lambda t: t.head(10).tail(1)),\n",
    "    collected_fare_type_10=pd.NamedAgg(column='CollectedFareType',aggfunc = lambda t: t.head(10).tail(1)),\n",
    "    total_trip_time_10=pd.NamedAgg(column='TotalTripTimeSeconds',aggfunc = lambda t: t.head(10).tail(1)),\n",
    "    customerID_11=pd.NamedAgg(column='CustomerID',aggfunc = lambda t: t.head(11).tail(1)),\n",
    "    startdatetime_11=pd.NamedAgg(column='StartDateTime',aggfunc = lambda t: t.head(11).tail(1)),\n",
    "    pickupx_11=pd.NamedAgg(column='PickupX',aggfunc = lambda t: t.head(11).tail(1)),\n",
    "    pickupy_11=pd.NamedAgg(column='PickupY',aggfunc = lambda t: t.head(11).tail(1)),\n",
    "    enddatetime_11=pd.NamedAgg(column='EndDateTime',aggfunc = lambda t: t.head(11).tail(1)),\n",
    "    dropoffx_11=pd.NamedAgg(column='DropoffX',aggfunc = lambda t: t.head(11).tail(1)),\n",
    "    dropoffy_11=pd.NamedAgg(column='DropoffY',aggfunc = lambda t: t.head(11).tail(1)),\n",
    "    cost_11=pd.NamedAgg(column='Cost',aggfunc = lambda t: t.head(11).tail(1)),\n",
    "    collected_fare_type_11=pd.NamedAgg(column='CollectedFareType',aggfunc = lambda t: t.head(11).tail(1)),\n",
    "    total_trip_time_11=pd.NamedAgg(column='TotalTripTimeSeconds',aggfunc = lambda t: t.head(11).tail(1)),\n",
    "    customerID_12=pd.NamedAgg(column='CustomerID',aggfunc = lambda t: t.head(12).tail(1)),\n",
    "    startdatetime_12=pd.NamedAgg(column='StartDateTime',aggfunc = lambda t: t.head(12).tail(1)),\n",
    "    pickupx_12=pd.NamedAgg(column='PickupX',aggfunc = lambda t: t.head(12).tail(1)),\n",
    "    pickupy_12=pd.NamedAgg(column='PickupY',aggfunc = lambda t: t.head(12).tail(1)),\n",
    "    enddatetime_12=pd.NamedAgg(column='EndDateTime',aggfunc = lambda t: t.head(12).tail(1)),\n",
    "    dropoffx_12=pd.NamedAgg(column='DropoffX',aggfunc = lambda t: t.head(12).tail(1)),\n",
    "    dropoffy_12=pd.NamedAgg(column='DropoffY',aggfunc = lambda t: t.head(12).tail(1)),\n",
    "    cost_12=pd.NamedAgg(column='Cost',aggfunc = lambda t: t.head(12).tail(1)),\n",
    "    collected_fare_type_12=pd.NamedAgg(column='CollectedFareType',aggfunc = lambda t: t.head(12).tail(1)),\n",
    "    total_trip_time_12=pd.NamedAgg(column='TotalTripTimeSeconds',aggfunc = lambda t: t.head(12).tail(1)),\n",
    "    customerID_13=pd.NamedAgg(column='CustomerID',aggfunc = lambda t: t.head(13).tail(1)),\n",
    "    startdatetime_13=pd.NamedAgg(column='StartDateTime',aggfunc = lambda t: t.head(13).tail(1)),\n",
    "    pickupx_13=pd.NamedAgg(column='PickupX',aggfunc = lambda t: t.head(13).tail(1)),\n",
    "    pickupy_13=pd.NamedAgg(column='PickupY',aggfunc = lambda t: t.head(13).tail(1)),\n",
    "    enddatetime_13=pd.NamedAgg(column='EndDateTime',aggfunc = lambda t: t.head(13).tail(1)),\n",
    "    dropoffx_13=pd.NamedAgg(column='DropoffX',aggfunc = lambda t: t.head(13).tail(1)),\n",
    "    dropoffy_13=pd.NamedAgg(column='DropoffY',aggfunc = lambda t: t.head(13).tail(1)),\n",
    "    cost_13=pd.NamedAgg(column='Cost',aggfunc = lambda t: t.head(13).tail(1)),\n",
    "    collected_fare_type_13=pd.NamedAgg(column='CollectedFareType',aggfunc = lambda t: t.head(13).tail(1)),\n",
    "    total_trip_time_13=pd.NamedAgg(column='TotalTripTimeSeconds',aggfunc = lambda t: t.head(13).tail(1)),\n",
    "    customerID_14=pd.NamedAgg(column='CustomerID',aggfunc = lambda t: t.head(14).tail(1)),\n",
    "    startdatetime_14=pd.NamedAgg(column='StartDateTime',aggfunc = lambda t: t.head(14).tail(1)),\n",
    "    pickupx_14=pd.NamedAgg(column='PickupX',aggfunc = lambda t: t.head(14).tail(1)),\n",
    "    pickupy_14=pd.NamedAgg(column='PickupY',aggfunc = lambda t: t.head(14).tail(1)),\n",
    "    enddatetime_14=pd.NamedAgg(column='EndDateTime',aggfunc = lambda t: t.head(14).tail(1)),\n",
    "    dropoffx_14=pd.NamedAgg(column='DropoffX',aggfunc = lambda t: t.head(14).tail(1)),\n",
    "    dropoffy_14=pd.NamedAgg(column='DropoffY',aggfunc = lambda t: t.head(14).tail(1)),\n",
    "    cost_14=pd.NamedAgg(column='Cost',aggfunc = lambda t: t.head(14).tail(1)),\n",
    "    collected_fare_type_14=pd.NamedAgg(column='CollectedFareType',aggfunc = lambda t: t.head(14).tail(1)),\n",
    "    total_trip_time_14=pd.NamedAgg(column='TotalTripTimeSeconds',aggfunc = lambda t: t.head(14).tail(1)),\n",
    "    customerID_15=pd.NamedAgg(column='CustomerID',aggfunc = lambda t: t.head(15).tail(1)),\n",
    "    startdatetime_15=pd.NamedAgg(column='StartDateTime',aggfunc = lambda t: t.head(15).tail(1)),\n",
    "    pickupx_15=pd.NamedAgg(column='PickupX',aggfunc = lambda t: t.head(15).tail(1)),\n",
    "    pickupy_15=pd.NamedAgg(column='PickupY',aggfunc = lambda t: t.head(15).tail(1)),\n",
    "    enddatetime_15=pd.NamedAgg(column='EndDateTime',aggfunc = lambda t: t.head(15).tail(1)),\n",
    "    dropoffx_15=pd.NamedAgg(column='DropoffX',aggfunc = lambda t: t.head(15).tail(1)),\n",
    "    dropoffy_15=pd.NamedAgg(column='DropoffY',aggfunc = lambda t: t.head(15).tail(1)),\n",
    "    cost_15=pd.NamedAgg(column='Cost',aggfunc = lambda t: t.head(15).tail(1)),\n",
    "    collected_fare_type_15=pd.NamedAgg(column='CollectedFareType',aggfunc = lambda t: t.head(15).tail(1)),\n",
    "    total_trip_time_15=pd.NamedAgg(column='TotalTripTimeSeconds',aggfunc = lambda t: t.head(15).tail(1)),\n",
    "    customerID_16=pd.NamedAgg(column='CustomerID',aggfunc = lambda t: t.head(16).tail(1)),\n",
    "    startdatetime_16=pd.NamedAgg(column='StartDateTime',aggfunc = lambda t: t.head(16).tail(1)),\n",
    "    pickupx_16=pd.NamedAgg(column='PickupX',aggfunc = lambda t: t.head(16).tail(1)),\n",
    "    pickupy_16=pd.NamedAgg(column='PickupY',aggfunc = lambda t: t.head(16).tail(1)),\n",
    "    enddatetime_16=pd.NamedAgg(column='EndDateTime',aggfunc = lambda t: t.head(16).tail(1)),\n",
    "    dropoffx_16=pd.NamedAgg(column='DropoffX',aggfunc = lambda t: t.head(16).tail(1)),\n",
    "    dropoffy_16=pd.NamedAgg(column='DropoffY',aggfunc = lambda t: t.head(16).tail(1)),\n",
    "    cost_16=pd.NamedAgg(column='Cost',aggfunc = lambda t: t.head(16).tail(1)),\n",
    "    collected_fare_type_16=pd.NamedAgg(column='CollectedFareType',aggfunc = lambda t: t.head(16).tail(1)),\n",
    "    total_trip_time_16=pd.NamedAgg(column='TotalTripTimeSeconds',aggfunc = lambda t: t.head(16).tail(1)),\n",
    "    customerID_17=pd.NamedAgg(column='CustomerID',aggfunc = lambda t: t.head(17).tail(1)),\n",
    "    startdatetime_17=pd.NamedAgg(column='StartDateTime',aggfunc = lambda t: t.head(17).tail(1)),\n",
    "    pickupx_17=pd.NamedAgg(column='PickupX',aggfunc = lambda t: t.head(17).tail(1)),\n",
    "    pickupy_17=pd.NamedAgg(column='PickupY',aggfunc = lambda t: t.head(17).tail(1)),\n",
    "    enddatetime_17=pd.NamedAgg(column='EndDateTime',aggfunc = lambda t: t.head(17).tail(1)),\n",
    "    dropoffx_17=pd.NamedAgg(column='DropoffX',aggfunc = lambda t: t.head(17).tail(1)),\n",
    "    dropoffy_17=pd.NamedAgg(column='DropoffY',aggfunc = lambda t: t.head(17).tail(1)),\n",
    "    cost_17=pd.NamedAgg(column='Cost',aggfunc = lambda t: t.head(17).tail(1)),\n",
    "    collected_fare_type_17=pd.NamedAgg(column='CollectedFareType',aggfunc = lambda t: t.head(17).tail(1)),\n",
    "    total_trip_time_17=pd.NamedAgg(column='TotalTripTimeSeconds',aggfunc = lambda t: t.head(17).tail(1)),\n",
    "    customerID_18=pd.NamedAgg(column='CustomerID',aggfunc = lambda t: t.head(18).tail(1)),\n",
    "    startdatetime_18=pd.NamedAgg(column='StartDateTime',aggfunc = lambda t: t.head(18).tail(1)),\n",
    "    pickupx_18=pd.NamedAgg(column='PickupX',aggfunc = lambda t: t.head(18).tail(1)),\n",
    "    pickupy_18=pd.NamedAgg(column='PickupY',aggfunc = lambda t: t.head(18).tail(1)),\n",
    "    enddatetime_18=pd.NamedAgg(column='EndDateTime',aggfunc = lambda t: t.head(18).tail(1)),\n",
    "    dropoffx_18=pd.NamedAgg(column='DropoffX',aggfunc = lambda t: t.head(18).tail(1)),\n",
    "    dropoffy_18=pd.NamedAgg(column='DropoffY',aggfunc = lambda t: t.head(18).tail(1)),\n",
    "    cost_18=pd.NamedAgg(column='Cost',aggfunc = lambda t: t.head(18).tail(1)),\n",
    "    collected_fare_type_18=pd.NamedAgg(column='CollectedFareType',aggfunc = lambda t: t.head(18).tail(1)),\n",
    "    total_trip_time_18=pd.NamedAgg(column='TotalTripTimeSeconds',aggfunc = lambda t: t.head(18).tail(1))\n",
    ")\n",
    "    \n",
    "    \n",
    "df_routes.to_csv(\"wide_raw_backup.csv\")"
   ]
  },
  {
   "cell_type": "code",
   "execution_count": 9,
   "metadata": {},
   "outputs": [],
   "source": [
    "# clearing out duplicate values\n",
    "\n",
    "df_routes.loc[df_routes['total_customers'] < 18 , ['customerID_18','startdatetime_18','pickupx_18','pickupy_18','enddatetime_18','dropoffx_18','dropoffy_18','cost_18','collected_fare_type_18','total_trip_time_18']] = pd.NA\n",
    "df_routes.loc[df_routes['total_customers'] < 17 , ['customerID_17','startdatetime_17','pickupx_17','pickupy_17','enddatetime_17','dropoffx_17','dropoffy_17','cost_17','collected_fare_type_17','total_trip_time_17']] = pd.NA\n",
    "df_routes.loc[df_routes['total_customers'] < 16 , ['customerID_16','startdatetime_16','pickupx_16','pickupy_16','enddatetime_16','dropoffx_16','dropoffy_16','cost_16','collected_fare_type_16','total_trip_time_16']] = pd.NA\n",
    "df_routes.loc[df_routes['total_customers'] < 15 , ['customerID_15','startdatetime_15','pickupx_15','pickupy_15','enddatetime_15','dropoffx_15','dropoffy_15','cost_15','collected_fare_type_15','total_trip_time_15']] = pd.NA\n",
    "df_routes.loc[df_routes['total_customers'] < 14 , ['customerID_14','startdatetime_14','pickupx_14','pickupy_14','enddatetime_14','dropoffx_14','dropoffy_14','cost_14','collected_fare_type_14','total_trip_time_14']] = pd.NA\n",
    "df_routes.loc[df_routes['total_customers'] < 13 , ['customerID_13','startdatetime_13','pickupx_13','pickupy_13','enddatetime_13','dropoffx_13','dropoffy_13','cost_13','collected_fare_type_13','total_trip_time_13']] = pd.NA\n",
    "df_routes.loc[df_routes['total_customers'] < 12 , ['customerID_12','startdatetime_12','pickupx_12','pickupy_12','enddatetime_12','dropoffx_12','dropoffy_12','cost_12','collected_fare_type_12','total_trip_time_12']] = pd.NA\n",
    "df_routes.loc[df_routes['total_customers'] < 11 , ['customerID_11','startdatetime_11','pickupx_11','pickupy_11','enddatetime_11','dropoffx_11','dropoffy_11','cost_11','collected_fare_type_11','total_trip_time_11']] = pd.NA\n",
    "df_routes.loc[df_routes['total_customers'] < 10 , ['customerID_10','startdatetime_10','pickupx_10','pickupy_10','enddatetime_10','dropoffx_10','dropoffy_10','cost_10','collected_fare_type_10','total_trip_time_10']] = pd.NA\n",
    "df_routes.loc[df_routes['total_customers'] < 9 , ['customerID_9','startdatetime_9','pickupx_9','pickupy_9','enddatetime_9','dropoffx_9','dropoffy_9','cost_9','collected_fare_type_9','total_trip_time_9']] = pd.NA\n",
    "df_routes.loc[df_routes['total_customers'] < 8 , ['customerID_8','startdatetime_8','pickupx_8','pickupy_8','enddatetime_8','dropoffx_8','dropoffy_8','cost_8','collected_fare_type_8','total_trip_time_8']] = pd.NA\n",
    "df_routes.loc[df_routes['total_customers'] < 7 , ['customerID_7','startdatetime_7','pickupx_7','pickupy_7','enddatetime_7','dropoffx_7','dropoffy_7','cost_7','collected_fare_type_7','total_trip_time_7']] = pd.NA\n",
    "df_routes.loc[df_routes['total_customers'] < 6 , ['customerID_6','startdatetime_6','pickupx_6','pickupy_6','enddatetime_6','dropoffx_6','dropoffy_6','cost_6','collected_fare_type_6','total_trip_time_6']] = pd.NA\n",
    "df_routes.loc[df_routes['total_customers'] < 5 , ['customerID_5','startdatetime_5','pickupx_5','pickupy_5','enddatetime_5','dropoffx_5','dropoffy_5','cost_5','collected_fare_type_5','total_trip_time_5']] = pd.NA\n",
    "df_routes.loc[df_routes['total_customers'] < 4 , ['customerID_4','startdatetime_4','pickupx_4','pickupy_4','enddatetime_4','dropoffx_4','dropoffy_4','cost_4','collected_fare_type_4','total_trip_time_4']] = pd.NA\n",
    "df_routes.loc[df_routes['total_customers'] < 3 , ['customerID_3','startdatetime_3','pickupx_3','pickupy_3','enddatetime_3','dropoffx_3','dropoffy_3','cost_3','collected_fare_type_3','total_trip_time_3']] = pd.NA\n",
    "df_routes.loc[df_routes['total_customers'] < 2 , ['customerID_2','startdatetime_2','pickupx_2','pickupy_2','enddatetime_2','dropoffx_2','dropoffy_2','cost_2','collected_fare_type_2','total_trip_time_2']] = pd.NA"
   ]
  },
  {
   "cell_type": "code",
   "execution_count": 13,
   "metadata": {},
   "outputs": [],
   "source": [
    "# output wide results to csv\n",
    "df_routes.head(5).to_csv(\"processed_aar_trips_wide.csv\")"
   ]
  },
  {
   "cell_type": "code",
   "execution_count": 11,
   "metadata": {},
   "outputs": [],
   "source": [
    "# output long results to csv\n",
    "header = ['RunActualID','VehicleID','CustomerID','CustomerSex','CustomerBirthDate','TripRank','TripDate','StartDateTime','EndDateTime','TotalTripTimeSeconds','Cost','CollectedFareType','PickupX','PickupY','DropoffX','DropoffY']\n",
    "df.head(5).to_csv(\"processed_aar_trips_long.csv\", index=False, columns=header)"
   ]
  },
  {
   "cell_type": "code",
   "execution_count": 12,
   "metadata": {},
   "outputs": [
    {
     "name": "stdout",
     "output_type": "stream",
     "text": [
      "10215\n"
     ]
    }
   ],
   "source": [
    "# output customer key to csv\n",
    "print(df['CustomerID'].nunique())\n",
    "customer_key = df.groupby(['CustomerID']).agg(\n",
    "    CustomerSex=pd.NamedAgg(column='CustomerSex', aggfunc='max'),\n",
    "    CustomerBirthDate=pd.NamedAgg(column='CustomerBirthDate', aggfunc='max'),\n",
    "    TotalTrips=pd.NamedAgg(column='CustomerID', aggfunc='count')\n",
    "    )\n",
    "customer_key.to_csv(\"customer_key.csv\")"
   ]
  }
 ],
 "metadata": {
  "kernelspec": {
   "display_name": ".venv",
   "language": "python",
   "name": "python3"
  },
  "language_info": {
   "codemirror_mode": {
    "name": "ipython",
    "version": 3
   },
   "file_extension": ".py",
   "mimetype": "text/x-python",
   "name": "python",
   "nbconvert_exporter": "python",
   "pygments_lexer": "ipython3",
   "version": "3.11.3"
  },
  "orig_nbformat": 4
 },
 "nbformat": 4,
 "nbformat_minor": 2
}
