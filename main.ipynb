{
 "cells": [
  {
   "cell_type": "code",
   "execution_count": 2,
   "metadata": {},
   "outputs": [
    {
     "name": "stdout",
     "output_type": "stream",
     "text": [
      "Requirement already satisfied: pandas in ./.venv/lib/python3.11/site-packages (2.0.2)\n",
      "Requirement already satisfied: python-dateutil>=2.8.2 in ./.venv/lib/python3.11/site-packages (from pandas) (2.8.2)\n",
      "Requirement already satisfied: pytz>=2020.1 in ./.venv/lib/python3.11/site-packages (from pandas) (2023.3)\n",
      "Requirement already satisfied: tzdata>=2022.1 in ./.venv/lib/python3.11/site-packages (from pandas) (2023.3)\n",
      "Requirement already satisfied: numpy>=1.21.0 in ./.venv/lib/python3.11/site-packages (from pandas) (1.24.3)\n",
      "Requirement already satisfied: six>=1.5 in ./.venv/lib/python3.11/site-packages (from python-dateutil>=2.8.2->pandas) (1.16.0)\n",
      "\n",
      "\u001b[1m[\u001b[0m\u001b[34;49mnotice\u001b[0m\u001b[1;39;49m]\u001b[0m\u001b[39;49m A new release of pip is available: \u001b[0m\u001b[31;49m23.0.1\u001b[0m\u001b[39;49m -> \u001b[0m\u001b[32;49m23.1.2\u001b[0m\n",
      "\u001b[1m[\u001b[0m\u001b[34;49mnotice\u001b[0m\u001b[1;39;49m]\u001b[0m\u001b[39;49m To update, run: \u001b[0m\u001b[32;49mpip install --upgrade pip\u001b[0m\n",
      "Note: you may need to restart the kernel to use updated packages.\n"
     ]
    }
   ],
   "source": [
    "## import (and install if necessary) pandas\n",
    "%pip install pandas\n",
    "import pandas as pd\n",
    "from datetime import datetime"
   ]
  },
  {
   "cell_type": "code",
   "execution_count": 3,
   "metadata": {},
   "outputs": [
    {
     "name": "stdout",
     "output_type": "stream",
     "text": [
      "<class 'pandas.core.frame.DataFrame'>\n",
      "RangeIndex: 1160755 entries, 0 to 1160754\n",
      "Data columns (total 14 columns):\n",
      " #   Column             Non-Null Count    Dtype         \n",
      "---  ------             --------------    -----         \n",
      " 0   CustomerID         1160755 non-null  int64         \n",
      " 1   CustomerSex        1160755 non-null  object        \n",
      " 2   CustomerBirthDate  1160417 non-null  datetime64[ns]\n",
      " 3   TripDate           1160755 non-null  datetime64[ns]\n",
      " 4   VehicleID          1160755 non-null  int64         \n",
      " 5   RunActualID        1160755 non-null  int64         \n",
      " 6   StartDateTime      1160755 non-null  datetime64[ns]\n",
      " 7   EndDateTime        1160755 non-null  datetime64[ns]\n",
      " 8   PickupX            1110755 non-null  float64       \n",
      " 9   PickupY            1110755 non-null  float64       \n",
      " 10  DropoffX           1109028 non-null  float64       \n",
      " 11  DropoffY           1109028 non-null  float64       \n",
      " 12  Cost               1160538 non-null  float64       \n",
      " 13  CollectedFareType  1147941 non-null  object        \n",
      "dtypes: datetime64[ns](4), float64(5), int64(3), object(2)\n",
      "memory usage: 124.0+ MB\n",
      "None\n",
      "   CustomerID CustomerSex CustomerBirthDate   TripDate  VehicleID  \\\n",
      "0       68809           M        1972-10-02 2019-01-01       1832   \n",
      "1       56045           F        1957-10-25 2019-01-01       1803   \n",
      "2       54784           F        1965-06-04 2019-01-01       1938   \n",
      "3      126788           F        1966-01-22 2019-01-01       1765   \n",
      "4      104367           F        1948-11-15 2019-01-01       1614   \n",
      "\n",
      "   RunActualID       StartDateTime         EndDateTime     PickupX    PickupY  \\\n",
      "0      2470597 2019-01-01 00:44:15 2019-01-01 01:35:22 -105.193555  39.723181   \n",
      "1      2470981 2019-01-01 01:28:00 2019-01-01 02:22:00 -105.057501  39.812276   \n",
      "2      2471406 2019-01-01 03:55:39 2019-01-01 04:15:09 -104.861764  39.700196   \n",
      "3      2471003 2019-01-01 04:08:00 2019-01-01 05:22:34 -104.885841  39.738328   \n",
      "4      2471212 2019-01-01 04:08:03 2019-01-01 04:29:20 -104.973234  39.854648   \n",
      "\n",
      "     DropoffX   DropoffY  Cost CollectedFareType  \n",
      "0 -104.807529  39.640781   0.0           No Fare  \n",
      "1 -105.032882  39.638608   0.0           No Fare  \n",
      "2 -104.819509  39.724502   0.0           No Fare  \n",
      "3 -104.988462  39.577327   0.0            Ticket  \n",
      "4 -105.022485  39.849138   0.0            Ticket  \n"
     ]
    }
   ],
   "source": [
    "df = pd.read_csv(\"full_data.csv\"\n",
    "                 ,parse_dates=['TripDate','StartDateTime','EndDateTime','CustomerBirthDate']\n",
    "                 )\n",
    "## process cost monetary data\n",
    "df['Cost'] = df['Cost'].str.replace(',', '')\n",
    "df['Cost'] = df['Cost'].str.replace('$', '')\n",
    "df['Cost'] = df['Cost'].str.replace('(', '')\n",
    "df['Cost'] = df['Cost'].str.replace(')', '')\n",
    "df['Cost'] = df['Cost'].astype(float)\n",
    "print(df.info())\n",
    "print(df.head(5))\n"
   ]
  },
  {
   "cell_type": "code",
   "execution_count": 10,
   "metadata": {},
   "outputs": [
    {
     "name": "stdout",
     "output_type": "stream",
     "text": [
      "Maximum Number of rows per RunActualID: 18\n",
      "Unique number of RunActualIDs: 213272\n",
      "Unique number of CustomerIDs: 10215\n",
      "Unique number of VehicleIDs: 538\n"
     ]
    }
   ],
   "source": [
    "## summary counts\n",
    "runActualID_counts = df.groupby(['RunActualID'])['RunActualID'].count()\n",
    "print(f\"Maximum Number of rows per RunActualID: {runActualID_counts.max()}\")\n",
    "print(f\"Unique number of RunActualIDs: {df['RunActualID'].nunique()}\")\n",
    "print(f\"Unique number of CustomerIDs: {df['CustomerID'].nunique()}\")\n",
    "print(f\"Unique number of VehicleIDs: {df['VehicleID'].nunique()}\")"
   ]
  },
  {
   "cell_type": "code",
   "execution_count": 73,
   "metadata": {},
   "outputs": [
    {
     "name": "stdout",
     "output_type": "stream",
     "text": [
      "Number of RunActualIDs lasting over 24 hours: 4.\n",
      "(Calculated by subtracting EndDateTime from StartDateTime)\n",
      "Saving outlier RunActualIDs to `runactualIDs_over_day.csv\n"
     ]
    }
   ],
   "source": [
    "dates_per_runactualIDs = df.groupby(['RunActualID']).agg({'EndDateTime': 'max', 'StartDateTime':'min'})\n",
    "dates_per_runactualIDs['EndDate'] = pd.to_datetime(dates_per_runactualIDs['EndDateTime'].dt.date)\n",
    "dates_per_runactualIDs['StartDate'] = pd.to_datetime(dates_per_runactualIDs['StartDateTime'].dt.date)\n",
    "dates_per_runactualIDs['diff'] = (dates_per_runactualIDs['EndDateTime'] - dates_per_runactualIDs['StartDateTime']).dt.total_seconds()\n",
    "seconds_in_day = 86400\n",
    "runactualIDs_over_day = dates_per_runactualIDs[dates_per_runactualIDs['diff'] > seconds_in_day]\n",
    "#print(runactualIDs_over_day['RunActualId'].nunique())\n",
    "\n",
    "print(f\"\"\"Number of RunActualIDs lasting over 24 hours: {runactualIDs_over_day.index.nunique()}\n",
    "(Calculated by subtracting EndDateTime from StartDateTime)\n",
    "Saving outlier RunActualIDs to `runactualIDs_over_day.csv\"\"\")\n",
    "runactualIDs_over_day.to_csv(\"runactualIDs_over_day.csv\", columns = ['StartDateTime','EndDateTime'])"
   ]
  },
  {
   "cell_type": "code",
   "execution_count": null,
   "metadata": {},
   "outputs": [],
   "source": []
  }
 ],
 "metadata": {
  "kernelspec": {
   "display_name": ".venv",
   "language": "python",
   "name": "python3"
  },
  "language_info": {
   "codemirror_mode": {
    "name": "ipython",
    "version": 3
   },
   "file_extension": ".py",
   "mimetype": "text/x-python",
   "name": "python",
   "nbconvert_exporter": "python",
   "pygments_lexer": "ipython3",
   "version": "3.11.3"
  },
  "orig_nbformat": 4
 },
 "nbformat": 4,
 "nbformat_minor": 2
}
